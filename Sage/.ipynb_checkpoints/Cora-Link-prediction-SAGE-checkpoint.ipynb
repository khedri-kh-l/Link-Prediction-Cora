{
 "cells": [
  {
   "cell_type": "code",
   "execution_count": 1,
   "metadata": {},
   "outputs": [],
   "source": [
    "%matplotlib inline"
   ]
  },
  {
   "cell_type": "markdown",
   "metadata": {},
   "source": [
    "\n",
    "Link Prediction using Graph Neural Networks\n",
    "===========================================\n"
   ]
  },
  {
   "cell_type": "markdown",
   "metadata": {},
   "source": [
    "Overview of Link Prediction with GNN\n",
    "------------------------------------\n",
    "\n",
    "Many applications such as social recommendation, item recommendation,\n",
    "knowledge graph completion, etc., can be formulated as link prediction,\n",
    "which predicts whether an edge exists between two particular nodes. This\n",
    "tutorial shows an example of predicting whether a citation relationship,\n",
    "either citing or being cited, between two papers exists in a citation\n",
    "network.\n",
    "\n",
    "This tutorial formulates the link prediction problem as a binary classification\n",
    "problem as follows:\n",
    "\n",
    "-  Treat the edges in the graph as *positive examples*.\n",
    "-  Sample a number of non-existent edges (i.e. node pairs with no edges\n",
    "   between them) as *negative* examples.\n",
    "-  Divide the positive examples and negative examples into a training\n",
    "   set and a test set.\n",
    "-  Evaluate the model with any binary classification metric such as Area\n",
    "   Under Curve (AUC).\n",
    "\n",
    "\n",
    "In some domains such as large-scale recommender systems or information\n",
    "retrieval, you may favor metrics that emphasize good performance of\n",
    "top-K predictions. In these cases you may want to consider other metrics\n",
    "such as mean average precision, and use other negative sampling methods,\n",
    "which are beyond the scope of this tutorial.\n"
   ]
  },
  {
   "cell_type": "code",
   "execution_count": 1,
   "metadata": {},
   "outputs": [],
   "source": [
    "import itertools\n",
    "import os\n",
    "\n",
    "\n",
    "\n",
    "os.environ[\"DGLBACKEND\"] = \"pytorch\"\n",
    "\n",
    "import time\n",
    "import copy\n",
    "import dgl\n",
    "import dgl.data\n",
    "import numpy as np\n",
    "import matplotlib.pyplot as plt\n",
    "import scipy.sparse as sp\n",
    "import torch\n",
    "import torch.nn as nn\n",
    "import torch.nn.functional as F\n",
    "import torch.nn.utils.prune as prune\n",
    "from sklearn.metrics import roc_auc_score"
   ]
  },
  {
   "cell_type": "code",
   "execution_count": 2,
   "metadata": {},
   "outputs": [
    {
     "name": "stdout",
     "output_type": "stream",
     "text": [
      "  NumNodes: 2708\n",
      "  NumEdges: 10556\n",
      "  NumFeats: 1433\n",
      "  NumClasses: 7\n",
      "  NumTrainingSamples: 140\n",
      "  NumValidationSamples: 500\n",
      "  NumTestSamples: 1000\n",
      "Done loading data from cached files.\n"
     ]
    }
   ],
   "source": [
    "dataset = dgl.data.CoraGraphDataset()\n",
    "g = dataset[0]"
   ]
  },
  {
   "cell_type": "markdown",
   "metadata": {},
   "source": [
    "Prepare training and testing sets\n",
    "---------------------------------\n",
    "\n",
    "This tutorial randomly picks 10% of the edges for positive examples in\n",
    "the test set, and leave the rest for the training set. It then samples\n",
    "the same number of edges for negative examples in both sets.\n",
    "\n",
    "\n"
   ]
  },
  {
   "cell_type": "code",
   "execution_count": 3,
   "metadata": {},
   "outputs": [],
   "source": [
    "# Split edge set for training and testing\n",
    "u, v = g.edges()\n",
    "\n",
    "eids = np.arange(g.num_edges())\n",
    "eids = np.random.permutation(eids)\n",
    "test_size = int(len(eids) * 0.1)\n",
    "train_size = g.num_edges() - test_size\n",
    "test_pos_u, test_pos_v = u[eids[:test_size]], v[eids[:test_size]]\n",
    "train_pos_u, train_pos_v = u[eids[test_size:]], v[eids[test_size:]]\n",
    "\n",
    "# Find all negative edges and split them for training and testing\n",
    "adj = sp.coo_matrix((np.ones(len(u)), (u.numpy(), v.numpy()))) # Adjacency Matrix\n",
    "adj_neg = 1 - adj.todense() - np.eye(g.num_nodes())\n",
    "neg_u, neg_v = np.where(adj_neg != 0)\n",
    "\n",
    "neg_eids = np.random.choice(len(neg_u), g.num_edges())\n",
    "\n",
    "test_neg_u, test_neg_v = (\n",
    "    neg_u[neg_eids[:test_size]],\n",
    "    neg_v[neg_eids[:test_size]],\n",
    ")\n",
    "train_neg_u, train_neg_v = (\n",
    "    neg_u[neg_eids[test_size:]],\n",
    "    neg_v[neg_eids[test_size:]],\n",
    ")"
   ]
  },
  {
   "cell_type": "markdown",
   "metadata": {},
   "source": [
    "When training, you will need to remove the edges in the test set from\n",
    "the original graph. You can do this via ``dgl.remove_edges``.\n",
    "\n",
    "<div class=\"alert alert-info\"><h4>Note</h4><p>``dgl.remove_edges`` works by creating a subgraph from the\n",
    "   original graph, resulting in a copy and therefore could be slow for\n",
    "   large graphs. If so, you could save the training and test graph to\n",
    "   disk, as you would do for preprocessing.</p></div>\n",
    "\n",
    "\n"
   ]
  },
  {
   "cell_type": "code",
   "execution_count": 4,
   "metadata": {},
   "outputs": [],
   "source": [
    "train_g = dgl.remove_edges(g, eids[:test_size])"
   ]
  },
  {
   "cell_type": "markdown",
   "metadata": {},
   "source": [
    "Define a GraphSAGE model\n",
    "------------------------\n",
    "\n",
    "This tutorial builds a model consisting of two\n",
    "`GraphSAGE <https://arxiv.org/abs/1706.02216>`__ layers, each computes\n",
    "new node representations by averaging neighbor information. DGL provides\n",
    "``dgl.nn.SAGEConv`` that conveniently creates a GraphSAGE layer.\n",
    "\n",
    "\n"
   ]
  },
  {
   "cell_type": "code",
   "execution_count": 5,
   "metadata": {},
   "outputs": [],
   "source": [
    "from dgl.nn import SAGEConv\n",
    "\n",
    "\n",
    "# ----------- 2. create model -------------- #\n",
    "# build a two-layer GraphSAGE model\n",
    "class GraphSAGE(nn.Module):\n",
    "    def __init__(self, in_feats, h_feats):\n",
    "        super(GraphSAGE, self).__init__()\n",
    "        self.conv1 = SAGEConv(in_feats, h_feats, \"mean\")\n",
    "        self.conv2 = SAGEConv(h_feats, h_feats, \"mean\")\n",
    "\n",
    "    def forward(self, g, in_feat):\n",
    "        h = self.conv1(g, in_feat)\n",
    "        h = F.relu(h)\n",
    "        h = self.conv2(g, h)\n",
    "        return h"
   ]
  },
  {
   "cell_type": "markdown",
   "metadata": {},
   "source": [
    "The model then predicts the probability of existence of an edge by\n",
    "computing a score between the representations of both incident nodes\n",
    "with a function (e.g. an MLP or a dot product), which you will see in\n",
    "the next section.\n",
    "\n",
    "\\begin{align}\\hat{y}_{u\\sim v} = f(h_u, h_v)\\end{align}\n",
    "\n",
    "\n"
   ]
  },
  {
   "cell_type": "markdown",
   "metadata": {},
   "source": [
    "Positive graph, negative graph, and ``apply_edges``\n",
    "---------------------------------------------------\n",
    "\n",
    "In previous tutorials you have learned how to compute node\n",
    "representations with a GNN. However, link prediction requires you to\n",
    "compute representation of *pairs of nodes*.\n",
    "\n",
    "DGL recommends you to treat the pairs of nodes as another graph, since\n",
    "you can describe a pair of nodes with an edge. In link prediction, you\n",
    "will have a *positive graph* consisting of all the positive examples as\n",
    "edges, and a *negative graph* consisting of all the negative examples.\n",
    "The *positive graph* and the *negative graph* will contain the same set\n",
    "of nodes as the original graph.  This makes it easier to pass node\n",
    "features among multiple graphs for computation.  As you will see later,\n",
    "you can directly feed the node representations computed on the entire\n",
    "graph to the positive and the negative graphs for computing pair-wise\n",
    "scores.\n",
    "\n",
    "The following code constructs the positive graph and the negative graph\n",
    "for the training set and the test set respectively.\n",
    "\n",
    "\n"
   ]
  },
  {
   "cell_type": "code",
   "execution_count": 6,
   "metadata": {},
   "outputs": [],
   "source": [
    "train_pos_g = dgl.graph((train_pos_u, train_pos_v), num_nodes=g.num_nodes())\n",
    "train_neg_g = dgl.graph((train_neg_u, train_neg_v), num_nodes=g.num_nodes())\n",
    "\n",
    "test_pos_g = dgl.graph((test_pos_u, test_pos_v), num_nodes=g.num_nodes())\n",
    "test_neg_g = dgl.graph((test_neg_u, test_neg_v), num_nodes=g.num_nodes())"
   ]
  },
  {
   "cell_type": "markdown",
   "metadata": {},
   "source": [
    "The benefit of treating the pairs of nodes as a graph is that you can\n",
    "use the ``DGLGraph.apply_edges`` method, which conveniently computes new\n",
    "edge features based on the incident nodes’ features and the original\n",
    "edge features (if applicable).\n",
    "\n",
    "DGL provides a set of optimized builtin functions to compute new\n",
    "edge features based on the original node/edge features. For example,\n",
    "``dgl.function.u_dot_v`` computes a dot product of the incident nodes’\n",
    "representations for each edge.\n",
    "\n",
    "\n"
   ]
  },
  {
   "cell_type": "code",
   "execution_count": 7,
   "metadata": {},
   "outputs": [],
   "source": [
    "import dgl.function as fn\n",
    "\n",
    "\n",
    "class DotPredictor(nn.Module):\n",
    "    def forward(self, g, h):\n",
    "        with g.local_scope():\n",
    "            g.ndata[\"h\"] = h\n",
    "            # Compute a new edge feature named 'score' by a dot-product between the\n",
    "            # source node feature 'h' and destination node feature 'h'.\n",
    "            g.apply_edges(fn.u_dot_v(\"h\", \"h\", \"score\"))\n",
    "            # u_dot_v returns a 1-element vector for each edge so you need to squeeze it.\n",
    "            return g.edata[\"score\"][:, 0]"
   ]
  },
  {
   "cell_type": "markdown",
   "metadata": {},
   "source": [
    "You can also write your own function if it is complex.\n",
    "For instance, the following module produces a scalar score on each edge\n",
    "by concatenating the incident nodes’ features and passing it to an MLP.\n",
    "\n",
    "\n"
   ]
  },
  {
   "cell_type": "code",
   "execution_count": 8,
   "metadata": {},
   "outputs": [],
   "source": [
    "class MLPPredictor(nn.Module):\n",
    "    def __init__(self, h_feats):\n",
    "        super().__init__()\n",
    "        self.W1 = nn.Linear(h_feats * 2, h_feats)\n",
    "        self.W2 = nn.Linear(h_feats, 1)\n",
    "\n",
    "    def apply_edges(self, edges):\n",
    "        \"\"\"\n",
    "        Computes a scalar score for each edge of the given graph.\n",
    "\n",
    "        Parameters\n",
    "        ----------\n",
    "        edges :\n",
    "            Has three members ``src``, ``dst`` and ``data``, each of\n",
    "            which is a dictionary representing the features of the\n",
    "            source nodes, the destination nodes, and the edges\n",
    "            themselves.\n",
    "\n",
    "        Returns\n",
    "        -------\n",
    "        dict\n",
    "            A dictionary of new edge features.\n",
    "        \"\"\"\n",
    "        h = torch.cat([edges.src[\"h\"], edges.dst[\"h\"]], 1)\n",
    "        return {\"score\": self.W2(F.relu(self.W1(h))).squeeze(1)}\n",
    "\n",
    "    def forward(self, g, h):\n",
    "        with g.local_scope():\n",
    "            g.ndata[\"h\"] = h\n",
    "            g.apply_edges(self.apply_edges)\n",
    "            return g.edata[\"score\"]"
   ]
  },
  {
   "cell_type": "markdown",
   "metadata": {},
   "source": [
    "Training loop\n",
    "-------------\n",
    "\n",
    "After you defined the node representation computation and the edge score\n",
    "computation, you can go ahead and define the overall model, loss\n",
    "function, and evaluation metric.\n",
    "\n",
    "The loss function is simply binary cross entropy loss.\n",
    "\n",
    "\\begin{align}\\mathcal{L} = -\\sum_{u\\sim v\\in \\mathcal{D}}\\left( y_{u\\sim v}\\log(\\hat{y}_{u\\sim v}) + (1-y_{u\\sim v})\\log(1-\\hat{y}_{u\\sim v})) \\right)\\end{align}\n",
    "\n",
    "The evaluation metric in this tutorial is AUC.\n",
    "\n",
    "\n"
   ]
  },
  {
   "cell_type": "code",
   "execution_count": 9,
   "metadata": {},
   "outputs": [],
   "source": [
    "model = GraphSAGE(train_g.ndata[\"feat\"].shape[1], 16)\n",
    "# You can replace DotPredictor with MLPPredictor.\n",
    "# pred = MLPPredictor(16)\n",
    "pred = DotPredictor()\n",
    "\n",
    "\n",
    "def compute_loss(pos_score, neg_score):\n",
    "    scores = torch.cat([pos_score, neg_score])\n",
    "    labels = torch.cat(\n",
    "        [torch.ones(pos_score.shape[0]), torch.zeros(neg_score.shape[0])]\n",
    "    )\n",
    "    return F.binary_cross_entropy_with_logits(scores, labels)\n",
    "\n",
    "\n",
    "def compute_auc(pos_score, neg_score):\n",
    "    scores = torch.cat([pos_score, neg_score]).numpy()\n",
    "    labels = torch.cat(\n",
    "        [torch.ones(pos_score.shape[0]), torch.zeros(neg_score.shape[0])]\n",
    "    ).numpy()\n",
    "    return roc_auc_score(labels, scores)"
   ]
  },
  {
   "cell_type": "code",
   "execution_count": 10,
   "metadata": {},
   "outputs": [],
   "source": [
    "def evaluate(test_pos_g, h):\n",
    "    with torch.no_grad():\n",
    "        pos_score = pred(test_pos_g, h)\n",
    "        neg_score = pred(test_neg_g, h)\n",
    "        test_loss=compute_loss(pos_score, neg_score)\n",
    "        test_loss=test_loss.detach().item()\n",
    "        AUC=compute_auc(pos_score, neg_score)\n",
    "        return test_loss, AUC"
   ]
  },
  {
   "cell_type": "code",
   "execution_count": 11,
   "metadata": {},
   "outputs": [],
   "source": [
    "def train(model,epoch):   \n",
    "       \n",
    "        # forward\n",
    "        h = model(train_g, train_g.ndata[\"feat\"])\n",
    "        pos_score = pred(train_pos_g, h)\n",
    "        neg_score = pred(train_neg_g, h)\n",
    "        trn_loss = compute_loss(pos_score, neg_score)\n",
    "        test_loss, auc_test=evaluate(test_pos_g, h)\n",
    "        # backward\n",
    "        optimizer.zero_grad()\n",
    "        trn_loss.backward()\n",
    "        optimizer.step()\n",
    "        \n",
    "        return auc_test, h, trn_loss, test_loss\n",
    "        #if epoch % 5 == 0:\n",
    "            #print(f\"In epoch {epoch}, Training Loss: {trn_loss:.3f},Test Loss:{test_loss:.3f},Test Auc: {auc_test:.3f},\")\n",
    "\n"
   ]
  },
  {
   "cell_type": "code",
   "execution_count": 19,
   "metadata": {},
   "outputs": [
    {
     "name": "stdout",
     "output_type": "stream",
     "text": [
      "In epoch 0,Test Auc: 0.508,\n",
      "In epoch 5,Test Auc: 0.621,\n",
      "In epoch 10,Test Auc: 0.683,\n",
      "In epoch 15,Test Auc: 0.750,\n",
      "In epoch 20,Test Auc: 0.766,\n",
      "In epoch 25,Test Auc: 0.772,\n",
      "In epoch 30,Test Auc: 0.805,\n",
      "In epoch 35,Test Auc: 0.841,\n",
      "In epoch 40,Test Auc: 0.862,\n",
      "In epoch 45,Test Auc: 0.873,\n",
      "In epoch 50,Test Auc: 0.877,\n",
      "In epoch 55,Test Auc: 0.877,\n",
      "In epoch 60,Test Auc: 0.876,\n",
      "In epoch 65,Test Auc: 0.873,\n",
      "In epoch 70,Test Auc: 0.868,\n",
      "In epoch 75,Test Auc: 0.863,\n"
     ]
    }
   ],
   "source": [
    "num_epoch=80\n",
    "model = GraphSAGE(train_g.ndata[\"feat\"].shape[1], 16)\n",
    "optimizer = torch.optim.Adam(\n",
    "            itertools.chain(model.parameters(), pred.parameters()), lr=0.01\n",
    "        )\n",
    "\n",
    "# ----------- 4. training -------------------------------- #\n",
    "all_logits = []\n",
    "best_checkpoint = dict()\n",
    "Auc_test=[]\n",
    "Trn_loss=[] \n",
    "Test_loss=[]\n",
    "\n",
    "for i in range(num_epoch):\n",
    "        auc_test, _, trn_loss, test_loss=train(model,i) \n",
    "        Auc_test.append( auc_test)\n",
    "        Trn_loss.append(trn_loss)\n",
    "        Test_loss.append(test_loss)\n",
    "        if i % 5 == 0:\n",
    "            print(f\"In epoch {i},Test Auc: {auc_test:.3f},\")\n",
    "\n",
    "start = time.time()\n",
    "h = model(train_g, train_g.ndata[\"feat\"])\n",
    "_,Auc=evaluate(test_pos_g, h)\n",
    "end = time.time()\n",
    "\n",
    "t_inference = end-start   \n",
    "\n",
    "print(f\"Time inference: {t_inference},Test Auc: {Auc:.3f},\")"
   ]
  },
  {
   "cell_type": "code",
   "execution_count": 26,
   "metadata": {},
   "outputs": [],
   "source": [
    "Trn_loss=[tensor.item() for tensor in Trn_loss]"
   ]
  },
  {
   "cell_type": "code",
   "execution_count": 34,
   "metadata": {},
   "outputs": [
    {
     "data": {
      "image/png": "[encoded data removed]",
      "text/plain": [
       "<Figure size 1440x720 with 2 Axes>"
      ]
     },
     "metadata": {
      "needs_background": "light"
     },
     "output_type": "display_data"
    }
   ],
   "source": [
    "\n",
    "# Plot training and validation accuracy and loss in one figure\n",
    "\n",
    "\n",
    "\n",
    "plt.figure(figsize=(20, 10))\n",
    "plt.rcParams.update({'font.size': 15})\n",
    "\n",
    "plt.subplot(1, 2, 1)\n",
    "plt.plot(Trn_loss,label=\"Training\", linewidth=3)\n",
    "plt.plot(Test_loss,label=\"Validation\", linewidth=3)\n",
    "plt.title('Training and Validation Loss',weight='bold', fontsize=15)\n",
    "plt.xlabel(\"Epoch\",weight='bold', fontsize=15)\n",
    "plt.ylabel(\"Loss\",weight='bold', fontsize=15)\n",
    "plt.legend(loc=\"upper right\")\n",
    "plt.xticks(weight='bold')\n",
    "plt.yticks(weight='bold')\n",
    "\n",
    "\n",
    "\n",
    "plt.subplot(1, 2, 2)\n",
    "plt.plot(Auc_test, linewidth=3)\n",
    "title = \"AUCs during training\"\n",
    "plt.xlabel(\"Epoch\",weight='bold', fontsize=15)\n",
    "plt.ylabel(\"AUC\",weight='bold', fontsize=15)\n",
    "#plt.legend(loc=\"upper right\")\n",
    "plt.title(title, weight='bold', fontsize=15)\n",
    "plt.xticks(weight='bold')\n",
    "plt.yticks(weight='bold')\n",
    "\n",
    "#plt.savefig('Images/Evaluation_SAGE.png')\n",
    "\n",
    "plt.show()"
   ]
  },
  {
   "cell_type": "markdown",
   "metadata": {},
   "source": [
    "##  Measurement"
   ]
  },
  {
   "cell_type": "code",
   "execution_count": 15,
   "metadata": {},
   "outputs": [],
   "source": [
    "import statistics as stat\n",
    "\n",
    "\n",
    "Eva_final=dict()\n",
    "\n",
    "\n",
    "Base_model_Auc=[]\n",
    "T_base_model=[]\n"
   ]
  },
  {
   "cell_type": "code",
   "execution_count": 16,
   "metadata": {},
   "outputs": [
    {
     "name": "stdout",
     "output_type": "stream",
     "text": [
      "In epoch 0,Test Auc: 0.523,\n",
      "In epoch 20,Test Auc: 0.855,\n",
      "In epoch 40,Test Auc: 0.870,\n",
      "In epoch 60,Test Auc: 0.880,\n",
      "Time inference: 0.04036450386047363,Test Auc: 0.870,\n",
      "In epoch 0,Test Auc: 0.532,\n",
      "In epoch 20,Test Auc: 0.813,\n",
      "In epoch 40,Test Auc: 0.881,\n",
      "In epoch 60,Test Auc: 0.890,\n",
      "Time inference: 0.030298233032226562,Test Auc: 0.875,\n",
      "In epoch 0,Test Auc: 0.515,\n",
      "In epoch 20,Test Auc: 0.836,\n",
      "In epoch 40,Test Auc: 0.856,\n",
      "In epoch 60,Test Auc: 0.882,\n",
      "Time inference: 0.03237032890319824,Test Auc: 0.875,\n",
      "In epoch 0,Test Auc: 0.526,\n",
      "In epoch 20,Test Auc: 0.801,\n",
      "In epoch 40,Test Auc: 0.872,\n",
      "In epoch 60,Test Auc: 0.885,\n",
      "Time inference: 0.03030538558959961,Test Auc: 0.861,\n",
      "In epoch 0,Test Auc: 0.491,\n",
      "In epoch 20,Test Auc: 0.820,\n",
      "In epoch 40,Test Auc: 0.872,\n",
      "In epoch 60,Test Auc: 0.883,\n",
      "Time inference: 0.030287981033325195,Test Auc: 0.869,\n",
      "In epoch 0,Test Auc: 0.551,\n",
      "In epoch 20,Test Auc: 0.821,\n",
      "In epoch 40,Test Auc: 0.901,\n",
      "In epoch 60,Test Auc: 0.894,\n",
      "Time inference: 0.030286312103271484,Test Auc: 0.881,\n",
      "In epoch 0,Test Auc: 0.477,\n",
      "In epoch 20,Test Auc: 0.782,\n",
      "In epoch 40,Test Auc: 0.831,\n",
      "In epoch 60,Test Auc: 0.857,\n",
      "Time inference: 0.03032970428466797,Test Auc: 0.877,\n",
      "In epoch 0,Test Auc: 0.552,\n",
      "In epoch 20,Test Auc: 0.832,\n",
      "In epoch 40,Test Auc: 0.879,\n",
      "In epoch 60,Test Auc: 0.894,\n",
      "Time inference: 0.03027033805847168,Test Auc: 0.882,\n",
      "In epoch 0,Test Auc: 0.512,\n",
      "In epoch 20,Test Auc: 0.827,\n",
      "In epoch 40,Test Auc: 0.887,\n",
      "In epoch 60,Test Auc: 0.892,\n",
      "Time inference: 0.03035759925842285,Test Auc: 0.874,\n",
      "In epoch 0,Test Auc: 0.501,\n",
      "In epoch 20,Test Auc: 0.787,\n",
      "In epoch 40,Test Auc: 0.871,\n",
      "In epoch 60,Test Auc: 0.878,\n",
      "Time inference: 0.03023982048034668,Test Auc: 0.860,\n"
     ]
    }
   ],
   "source": [
    "num_epoch=80\n",
    "\n",
    "for i in range(10):\n",
    "        model = GraphSAGE(train_g.ndata[\"feat\"].shape[1], 16)\n",
    "        optimizer = torch.optim.Adam(\n",
    "                    itertools.chain(model.parameters(), pred.parameters()), lr=0.01\n",
    "                )\n",
    "\n",
    "        # ----------- 4. training -------------------------------- #\n",
    "        all_logits = []\n",
    "        best_checkpoint = dict()\n",
    "        Auc_test=[]\n",
    "        Trn_loss=[] \n",
    "        Test_loss=[]\n",
    "\n",
    "        for i in range(num_epoch):\n",
    "                auc_test, _, trn_loss, test_loss=train(model,i) \n",
    "                Auc_test.append( auc_test)\n",
    "                Trn_loss.append(trn_loss)\n",
    "                Test_loss.append(test_loss)\n",
    "                if i % 20 == 0:\n",
    "                    print(f\"In epoch {i},Test Auc: {auc_test:.3f},\")\n",
    "\n",
    "        start = time.time()\n",
    "        h = model(train_g, train_g.ndata[\"feat\"])\n",
    "        _,Auc=evaluate(test_pos_g, h)\n",
    "        end = time.time()\n",
    "        t_inference= end-start\n",
    "        \n",
    "        Base_model_Auc.append(Auc)\n",
    "        T_base_model.append(t_inference)\n",
    "\n",
    "        print(f\"Time inference: {t_inference},Test Auc: {Auc:.3f},\")"
   ]
  },
  {
   "cell_type": "code",
   "execution_count": 35,
   "metadata": {},
   "outputs": [
    {
     "data": {
      "text/plain": [
       "[0.8703128860537723,\n",
       " 0.8750144875452035,\n",
       " 0.8745904180049865,\n",
       " 0.8614137148761258,\n",
       " 0.8693847847083399,\n",
       " 0.8809227106309382,\n",
       " 0.8770917095303339,\n",
       " 0.8815794793468252,\n",
       " 0.8740711125087037,\n",
       " 0.8596850924282922]"
      ]
     },
     "execution_count": 35,
     "metadata": {},
     "output_type": "execute_result"
    }
   ],
   "source": [
    "Base_model_Auc"
   ]
  },
  {
   "cell_type": "code",
   "execution_count": 36,
   "metadata": {},
   "outputs": [
    {
     "data": {
      "text/plain": [
       "[0.04036450386047363,\n",
       " 0.030298233032226562,\n",
       " 0.03237032890319824,\n",
       " 0.03030538558959961,\n",
       " 0.030287981033325195,\n",
       " 0.030286312103271484,\n",
       " 0.03032970428466797,\n",
       " 0.03027033805847168,\n",
       " 0.03035759925842285,\n",
       " 0.03023982048034668]"
      ]
     },
     "execution_count": 36,
     "metadata": {},
     "output_type": "execute_result"
    }
   ],
   "source": [
    "T_base_model"
   ]
  },
  {
   "cell_type": "code",
   "execution_count": 26,
   "metadata": {},
   "outputs": [
    {
     "name": "stdout",
     "output_type": "stream",
     "text": [
      "Base_model_Auc in ten time:\n",
      "0.8703128860537723|0.8750144875452035|0.8745904180049865|0.8614137148761258|0.8693847847083399|0.8809227106309382|0.8770917095303339|0.8815794793468252|0.8740711125087037|0.8596850924282922  \n",
      "--------------------------------------------------------------------------------------------------------------\n",
      "Time Inference model in ten time:\n",
      "0.04036450386047363|0.030298233032226562|0.03237032890319824|0.03030538558959961|0.030287981033325195|0.030286312103271484|0.03032970428466797|0.03027033805847168|0.03035759925842285|0.03023982048034668 \n"
     ]
    }
   ],
   "source": [
    "print(f'Base_model_Auc in ten time:')\n",
    "print (\"{:<10}|{:<10}|{:<10}|{:<10}|{:<10}|{:<10}|{:<10}|{:<10}|{:<15}|{:<20}\"\\\n",
    "    .format(Base_model_Auc[0],Base_model_Auc[1],Base_model_Auc[2],\\\n",
    "        Base_model_Auc[3],Base_model_Auc[4],Base_model_Auc[5],\\\n",
    "        Base_model_Auc[6],Base_model_Auc[7],Base_model_Auc[8],Base_model_Auc[9]))\n",
    "print (\"-\"*110)\n",
    "print(f'Time Inference model in ten time:')\n",
    "#print(T_base_model)\n",
    "print (\"{:<10}|{:<10}|{:<10}|{:<10}|{:<10}|{:<10}|{:<10}|{:<10}|{:<15}|{:<20}\"\\\n",
    "    .format(T_base_model[0],T_base_model[1],T_base_model[2],\\\n",
    "        T_base_model[3],T_base_model[4],T_base_model[5],\\\n",
    "        T_base_model[6],T_base_model[7],T_base_model[8],T_base_model[9]))"
   ]
  },
  {
   "cell_type": "code",
   "execution_count": null,
   "metadata": {},
   "outputs": [],
   "source": []
  },
  {
   "cell_type": "code",
   "execution_count": null,
   "metadata": {},
   "outputs": [],
   "source": []
  },
  {
   "cell_type": "code",
   "execution_count": 38,
   "metadata": {},
   "outputs": [
    {
     "name": "stdout",
     "output_type": "stream",
     "text": [
      "Auc: 0.872 ± 0.007\n",
      "Time inference :0.032 ± 0.003\n"
     ]
    }
   ],
   "source": [
    "import statistics as stat\n",
    "\n",
    "base_model_accuracy_mean = stat.mean(Base_model_Auc)\n",
    "base_model_accuracy_std =  stat.stdev(Base_model_Auc)\n",
    "desc_auc = \"{:.3f} ± {:.3f}\".format(base_model_accuracy_mean,base_model_accuracy_std)\n",
    "print(f\"Auc: {desc_auc}\"  )\n",
    "\n",
    "Eva_final.update({'base model accuracy':float(format(base_model_accuracy_mean, '.4f'))})\n",
    "                 \n",
    "t_base_model_mean =stat.mean(T_base_model)\n",
    "t_base_model_std =stat.stdev(T_base_model)   \n",
    "desc_T = \"{:.3f} ± {:.3f}\".format(t_base_model_mean,t_base_model_std)\n",
    "\n",
    "print(f\"Time inference :{desc_T}\")\n",
    "Eva_final.update({'time inference of base model':float(format(t_base_model_mean, '.6f'))})"
   ]
  },
  {
   "cell_type": "code",
   "execution_count": 32,
   "metadata": {},
   "outputs": [
    {
     "data": {
      "text/plain": [
       "{'base model accuracy': 0.8724, 'time inference of base model': 0.031511}"
      ]
     },
     "execution_count": 32,
     "metadata": {},
     "output_type": "execute_result"
    }
   ],
   "source": [
    "Eva_final"
   ]
  },
  {
   "cell_type": "code",
   "execution_count": null,
   "metadata": {},
   "outputs": [],
   "source": []
  }
 ],
 "metadata": {
  "kernelspec": {
   "display_name": "Python 3 (ipykernel)",
   "language": "python",
   "name": "python3"
  },
  "language_info": {
   "codemirror_mode": {
    "name": "ipython",
    "version": 3
   },
   "file_extension": ".py",
   "mimetype": "text/x-python",
   "name": "python",
   "nbconvert_exporter": "python",
   "pygments_lexer": "ipython3",
   "version": "3.10.6"
  }
 },
 "nbformat": 4,
 "nbformat_minor": 1
}
